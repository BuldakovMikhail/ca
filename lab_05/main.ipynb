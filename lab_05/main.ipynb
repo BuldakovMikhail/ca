{
 "cells": [
  {
   "attachments": {},
   "cell_type": "markdown",
   "metadata": {},
   "source": [
    "## Task 1"
   ]
  },
  {
   "cell_type": "code",
   "execution_count": 5,
   "metadata": {},
   "outputs": [],
   "source": [
    "import numpy as np\n",
    "import matplotlib.pyplot as plt"
   ]
  },
  {
   "cell_type": "code",
   "execution_count": 6,
   "metadata": {},
   "outputs": [],
   "source": [
    "def gaussElim(a, b):\n",
    "    n = len(b)\n",
    "    for k in range(0, n-1):\n",
    "        for i in range(k+1, n):\n",
    "            if a[i, k] != 0.0:\n",
    "                lam = a[i, k] / a[k, k]\n",
    "                a[i, k+1:n] = a[i, k+1:n] - lam*a[k, k+1:n]\n",
    "                b[i] = b[i] - lam*b[k]\n",
    "    for k in range(n-1, -1, -1):\n",
    "        b[k] = (b[k] - np.dot(a[k, k+1:n], b[k+1:n]))/a[k, k]\n",
    "\n",
    "    return b"
   ]
  },
  {
   "cell_type": "code",
   "execution_count": 7,
   "metadata": {},
   "outputs": [],
   "source": [
    "def system_solution(x_start, eps=1e-4):\n",
    "    x = x_start[0]  # count step s = 1\n",
    "    y = x_start[1]\n",
    "    z = x_start[2]\n",
    "\n",
    "    matrix = np.array(\n",
    "        [\n",
    "            [2 * x, 2 * y, 2 * z],\n",
    "            [4 * x, 2 * y, -4],\n",
    "            [6 * x, -4, 2 * z]\n",
    "        ]\n",
    "    )\n",
    "\n",
    "    b = np.array(\n",
    "        [\n",
    "            1 - (x ** 2 + y ** 2 + z ** 2),\n",
    "            4 * z - y ** 2 - 2 * x ** 2,\n",
    "            4 * y - 3 * x ** 2 - z ** 2\n",
    "        ]\n",
    "    )\n",
    "\n",
    "    delt_x, delt_y, delt_z = gaussElim(matrix, b)\n",
    "\n",
    "    cur_x = x + delt_x  # values on s step\n",
    "    cur_y = y + delt_y\n",
    "    cur_z = z + delt_z\n",
    "\n",
    "    x = cur_x\n",
    "    y = cur_y\n",
    "    z = cur_z\n",
    "\n",
    "    while (abs(max([delt_x / cur_x, delt_y / cur_y, delt_z / cur_z])) >= eps):\n",
    "        matrix = np.array([\n",
    "            [2 * x, 2 * y, 2 * z],\n",
    "            [4 * x, 2 * y, -4],\n",
    "            [6 * x, -4, 2 * z]\n",
    "        ])\n",
    "\n",
    "        b = np.array([\n",
    "            1 - (x ** 2 + y ** 2 + z ** 2),\n",
    "            4 * z - y ** 2 - 2 * x ** 2,\n",
    "            4 * y - 3 * x ** 2 - z ** 2\n",
    "        ])\n",
    "\n",
    "        delt_x, delt_y, delt_z = gaussElim(matrix, b)\n",
    "\n",
    "        cur_x = x + delt_x\n",
    "        cur_y = y + delt_y\n",
    "        cur_z = z + delt_z\n",
    "\n",
    "        x = cur_x\n",
    "        y = cur_y\n",
    "        z = cur_z\n",
    "\n",
    "    return (cur_x, cur_y, cur_z)"
   ]
  },
  {
   "cell_type": "code",
   "execution_count": 8,
   "metadata": {},
   "outputs": [
    {
     "name": "stdout",
     "output_type": "stream",
     "text": [
      "Решения системы: \n",
      "Корень №1:  (0.785197, 0.496611, 0.369923)\n",
      "Корень №2:  (-0.785197, 0.496611, 0.369923)\n"
     ]
    }
   ],
   "source": [
    "print(\"Решения системы: \")\n",
    "print(\"Корень №1: \", tuple(\n",
    "    map(lambda x: round(x, 6), system_solution(x_start=[+1, 0.1, 0.1]))))\n",
    "print(\"Корень №2: \", tuple(\n",
    "    map(lambda x: round(x, 6), system_solution(x_start=[-1, 0.1, 0.1]))))"
   ]
  },
  {
   "cell_type": "code",
   "execution_count": 26,
   "metadata": {},
   "outputs": [
    {
     "data": {
      "text/plain": [
       "<matplotlib.legend.Legend at 0x1299a25d1b0>"
      ]
     },
     "execution_count": 26,
     "metadata": {},
     "output_type": "execute_result"
    },
    {
     "data": {
      "image/png": "[encoded data removed]",
      "text/plain": [
       "<Figure size 432x288 with 1 Axes>"
      ]
     },
     "metadata": {
      "needs_background": "light"
     },
     "output_type": "display_data"
    }
   ],
   "source": [
    "x_init = np.linspace(-10, 10, 20)\n",
    "plt.plot(x_init, [system_solution(x_start=[x, 0.1, 0.1])[0] for x in x_init], label='first')\n",
    "plt.plot(x_init, [system_solution(x_start=[-1, x, 0.1])[1] for x in x_init], label='second')\n",
    "plt.plot(x_init, [system_solution(x_start=[-1, 0.1, x])[2] for x in x_init], label='third')\n",
    "plt.legend()"
   ]
  },
  {
   "attachments": {},
   "cell_type": "markdown",
   "metadata": {},
   "source": [
    "## Task 2"
   ]
  },
  {
   "cell_type": "code",
   "execution_count": 18,
   "metadata": {},
   "outputs": [],
   "source": [
    "def func(x):\n",
    "    return 2 / np.sqrt(2 * np.pi) * np.exp(-x ** 2 / 2)\n",
    "\n",
    "\n",
    "def count_integral(x, n=100):\n",
    "    N = 2 * n\n",
    "    steps = [x / N * i for i in range(N + 1)]\n",
    "\n",
    "    h = x / N\n",
    "\n",
    "    s1 = 2 * np.sum([func(steps[2 * j]) for j in range(1, N // 2)])\n",
    "    s2 = 4 * np.sum([func(steps[2 * j - 1]) for j in range(1, N // 2 + 1)])\n",
    "\n",
    "    return h / 3 * (func(steps[0]) + s1 + s2 + func(steps[N]))"
   ]
  },
  {
   "cell_type": "code",
   "execution_count": 19,
   "metadata": {},
   "outputs": [
    {
     "data": {
      "image/png": "[encoded data removed]",
      "text/plain": [
       "<Figure size 432x288 with 1 Axes>"
      ]
     },
     "metadata": {
      "needs_background": "light"
     },
     "output_type": "display_data"
    }
   ],
   "source": [
    "x = np.linspace(-20, 20, 100)\n",
    "y = [count_integral(i) for i in x]\n",
    "\n",
    "plt.plot(x, y)\n",
    "plt.grid(True)\n",
    "plt.show()"
   ]
  },
  {
   "cell_type": "code",
   "execution_count": 20,
   "metadata": {},
   "outputs": [
    {
     "name": "stdout",
     "output_type": "stream",
     "text": [
      "Значение функции:  0.6744903326034546\n"
     ]
    }
   ],
   "source": [
    "def find_root(fx, eps=1e-6):\n",
    "    # bisection\n",
    "    # 0 - fx\n",
    "\n",
    "    def f(x):\n",
    "        return fx - count_integral(x)\n",
    "\n",
    "    left_bound = -5\n",
    "    right_bound = 5\n",
    "\n",
    "    if f(left_bound) == 0:\n",
    "        return left_bound\n",
    "\n",
    "    if f(right_bound) == 0:\n",
    "        return right_bound\n",
    "\n",
    "    if f(right_bound) < f(left_bound):\n",
    "        left_bound, right_bound = right_bound, left_bound\n",
    "\n",
    "    delt = right_bound - left_bound\n",
    "\n",
    "    x = left_bound + (right_bound - left_bound) / 2\n",
    "\n",
    "    while abs((right_bound - left_bound) / (x * (right_bound - left_bound) + eps)) > eps:\n",
    "        dx = (right_bound - left_bound) / 2\n",
    "\n",
    "        x = left_bound + dx\n",
    "        if (np.sign(f(left_bound)) != np.sign(f(x))):\n",
    "            right_bound = x\n",
    "        else:\n",
    "            left_bound = x\n",
    "\n",
    "    return x\n",
    "\n",
    "print(\"Значение функции: \", find_root(0.5))"
   ]
  },
  {
   "attachments": {},
   "cell_type": "markdown",
   "metadata": {},
   "source": [
    "## Task 3"
   ]
  },
  {
   "cell_type": "code",
   "execution_count": 21,
   "metadata": {},
   "outputs": [],
   "source": [
    "def der_equation_solution(n=100):\n",
    "    # y'' = x ^ 2 + y ^ 3\n",
    "    # 0 <= x <= 1\n",
    "    # y(0) = 1\n",
    "    # y(1) = 3\n",
    "\n",
    "    def f(x):  # init func\n",
    "        return 2 * x + 1\n",
    "\n",
    "    # Решим методом прогонки\n",
    "    h = 1 / n\n",
    "    omega = [0 + i * h for i in range(n + 1)]\n",
    "\n",
    "    y = [f(x) for x in omega]\n",
    "    N = len(omega)\n",
    "\n",
    "    for _ in range(N):\n",
    "        ksi = [0 for _ in range(N - 1)]\n",
    "        et = [0 for _ in range(N - 1)]\n",
    "\n",
    "        for i in range(1, len(ksi)):\n",
    "            A = 1\n",
    "            C = 1\n",
    "\n",
    "            B = A + C + 3 * h ** 2 * y[i]\n",
    "\n",
    "            F = y[i - 1] - 2 * y[i] + y[i + 1] - \\\n",
    "                h**2*(omega[i] ** 2 + y[i] ** 3)\n",
    "\n",
    "            ksi[i] = C / (B - A * ksi[i - 1])\n",
    "            et[i] = (A * et[i - 1] + F) / (B - A * ksi[i - 1])\n",
    "\n",
    "        delta_y = [0 for _ in range(N)]\n",
    "        for i in range(len(ksi) - 1, 0, -1):\n",
    "            delta_y[i] = ksi[i] * delta_y[i + 1] + et[i]\n",
    "\n",
    "        for i in range(len(y)):\n",
    "            y[i] = y[i] + delta_y[i]\n",
    "\n",
    "    plt.plot(omega, y, label=\"Init\")\n",
    "    plt.plot(omega, [f(x) for x in omega], label=\"Ans\")\n",
    "    plt.grid(True)\n",
    "    plt.legend()\n",
    "    plt.show()"
   ]
  }
 ],
 "metadata": {
  "kernelspec": {
   "display_name": "Python 3",
   "language": "python",
   "name": "python3"
  },
  "language_info": {
   "codemirror_mode": {
    "name": "ipython",
    "version": 3
   },
   "file_extension": ".py",
   "mimetype": "text/x-python",
   "name": "python",
   "nbconvert_exporter": "python",
   "pygments_lexer": "ipython3",
   "version": "3.10.1"
  },
  "orig_nbformat": 4
 },
 "nbformat": 4,
 "nbformat_minor": 2
}
