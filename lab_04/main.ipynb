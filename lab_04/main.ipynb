{
 "cells": [
  {
   "cell_type": "code",
   "execution_count": 97,
   "metadata": {},
   "outputs": [],
   "source": [
    "import matplotlib.pyplot as plt\n",
    "import pandas as pd\n",
    "import numpy as np"
   ]
  },
  {
   "cell_type": "code",
   "execution_count": 98,
   "metadata": {},
   "outputs": [
    {
     "data": {
      "text/plain": [
       "<matplotlib.collections.PathCollection at 0x24832164070>"
      ]
     },
     "execution_count": 98,
     "metadata": {},
     "output_type": "execute_result"
    },
    {
     "data": {
      "image/png": "[encoded data removed]",
      "text/plain": [
       "<Figure size 432x288 with 1 Axes>"
      ]
     },
     "metadata": {
      "needs_background": "light"
     },
     "output_type": "display_data"
    }
   ],
   "source": [
    "x = np.random.uniform(0, 2, size=20).reshape((-1,1))\n",
    "y = (1+25*x**2)**-1 + np.random.normal(scale=0.1, size=x.shape)\n",
    "\n",
    "plt.scatter(x, y)"
   ]
  },
  {
   "cell_type": "code",
   "execution_count": 99,
   "metadata": {},
   "outputs": [],
   "source": [
    "def gaussElim(a,b):\n",
    "    n = len(b)\n",
    "    for k in range(0,n-1):\n",
    "        for i in range(k+1,n):\n",
    "            if a[i,k] != 0.0:\n",
    "                lam = a[i,k] / a[k,k]\n",
    "                a[i,k+1:n] = a[i,k+1:n] - lam*a[k,k+1:n]\n",
    "                b[i] = b[i] - lam*b[k]\n",
    "    for k in range(n-1,-1,-1):\n",
    "        b[k] = (b[k] - np.dot(a[k,k+1:n],b[k+1:n]))/a[k,k]\n",
    "    \n",
    "    return b"
   ]
  },
  {
   "cell_type": "code",
   "execution_count": 100,
   "metadata": {},
   "outputs": [],
   "source": [
    "class LinearRegression:\n",
    "    def __init__(self, x, y, p, n):\n",
    "        self.x = x\n",
    "        self.y = y\n",
    "        self.p = p\n",
    "\n",
    "        self.n = n + 1\n",
    "\n",
    "        self.train()\n",
    "\n",
    "    def train(self):\n",
    "        mat = [[0] * self.n for _ in range(self.n)]\n",
    "        b = []\n",
    "\n",
    "        for i in range(self.n):\n",
    "            for j in range(self.n):\n",
    "                mat[i][j] = np.dot(self.p, self.x ** (i + j))\n",
    "            b.append(np.dot(self.y, self.p * (self.x ** i)))\n",
    "\n",
    "        mat = np.array(mat)\n",
    "        self.a = np.array(gaussElim(mat, b))\n",
    "\n",
    "    def get_func_value(self, x):\n",
    "        return np.polyval(self.a[::-1], x)\n"
   ]
  },
  {
   "cell_type": "code",
   "execution_count": 101,
   "metadata": {},
   "outputs": [
    {
     "data": {
      "text/plain": [
       "(20,)"
      ]
     },
     "execution_count": 101,
     "metadata": {},
     "output_type": "execute_result"
    }
   ],
   "source": [
    "x = x.reshape(-1)\n",
    "x.shape"
   ]
  },
  {
   "cell_type": "code",
   "execution_count": 102,
   "metadata": {},
   "outputs": [
    {
     "data": {
      "text/plain": [
       "(20,)"
      ]
     },
     "execution_count": 102,
     "metadata": {},
     "output_type": "execute_result"
    }
   ],
   "source": [
    "y = y.reshape(-1)\n",
    "y.shape"
   ]
  },
  {
   "cell_type": "code",
   "execution_count": 103,
   "metadata": {},
   "outputs": [],
   "source": [
    "p = np.ones_like(x)"
   ]
  },
  {
   "attachments": {},
   "cell_type": "markdown",
   "metadata": {},
   "source": [
    "### Полином степени 1"
   ]
  },
  {
   "cell_type": "code",
   "execution_count": 104,
   "metadata": {},
   "outputs": [
    {
     "data": {
      "image/png": "[encoded data removed]",
      "text/plain": [
       "<Figure size 432x288 with 1 Axes>"
      ]
     },
     "metadata": {
      "needs_background": "light"
     },
     "output_type": "display_data"
    }
   ],
   "source": [
    "l1 = LinearRegression(x, y, p, 1)\n",
    "fig, ax = plt.subplots()\n",
    "ax.scatter(x, y)\n",
    "\n",
    "x_temp = np.linspace(0, max(x), len(x) * 10)\n",
    "y_temp = [l1.get_func_value(i) for i in x_temp]\n",
    "ax.plot(x_temp, y_temp, label=\"n = 1\")\n",
    "\n",
    "ax.set_ylim(min(y), max(y))\n",
    "ax.legend()\n",
    "plt.show()\n"
   ]
  },
  {
   "attachments": {},
   "cell_type": "markdown",
   "metadata": {},
   "source": [
    "### Полином степени 2"
   ]
  },
  {
   "cell_type": "code",
   "execution_count": 105,
   "metadata": {},
   "outputs": [
    {
     "data": {
      "image/png": "[encoded data removed]",
      "text/plain": [
       "<Figure size 432x288 with 1 Axes>"
      ]
     },
     "metadata": {
      "needs_background": "light"
     },
     "output_type": "display_data"
    }
   ],
   "source": [
    "l1 = LinearRegression(x, y, p, 2)\n",
    "fig, ax = plt.subplots()\n",
    "ax.scatter(x, y)\n",
    "\n",
    "x_temp = np.linspace(0, max(x), len(x) * 10)\n",
    "y_temp = [l1.get_func_value(i) for i in x_temp]\n",
    "ax.plot(x_temp, y_temp, label=\"n = 1\")\n",
    "\n",
    "ax.set_ylim(min(y), max(y))\n",
    "ax.legend()\n",
    "plt.show()\n"
   ]
  },
  {
   "attachments": {},
   "cell_type": "markdown",
   "metadata": {},
   "source": [
    "### Полином степени 4"
   ]
  },
  {
   "cell_type": "code",
   "execution_count": 106,
   "metadata": {},
   "outputs": [
    {
     "data": {
      "image/png": "[encoded data removed]",
      "text/plain": [
       "<Figure size 432x288 with 1 Axes>"
      ]
     },
     "metadata": {
      "needs_background": "light"
     },
     "output_type": "display_data"
    }
   ],
   "source": [
    "l1 = LinearRegression(x, y, p, 4)\n",
    "fig, ax = plt.subplots()\n",
    "ax.scatter(x, y)\n",
    "\n",
    "x_temp = np.linspace(0, max(x), len(x) * 10)\n",
    "y_temp = [l1.get_func_value(i) for i in x_temp]\n",
    "ax.plot(x_temp, y_temp, label=\"n = 1\")\n",
    "\n",
    "ax.set_ylim(min(y), max(y))\n",
    "ax.legend()\n",
    "plt.show()\n"
   ]
  },
  {
   "cell_type": "code",
   "execution_count": 107,
   "metadata": {},
   "outputs": [
    {
     "data": {
      "text/plain": [
       "array([[ 3.20398692e-03,  1.01056519e+00],\n",
       "       [ 1.18485999e-01,  7.64231115e-01],\n",
       "       [ 3.13698675e-01,  9.18142044e-02],\n",
       "       [ 5.68257007e-01,  4.60115465e-02],\n",
       "       [ 8.66689603e-01,  1.46306625e-02],\n",
       "       [ 8.70787968e-01,  7.60451925e-03],\n",
       "       [ 8.93632577e-01, -2.19567851e-02],\n",
       "       [ 1.09059071e+00,  1.21663742e-01],\n",
       "       [ 1.09312001e+00,  8.10476268e-02],\n",
       "       [ 1.10709555e+00,  9.47644243e-02],\n",
       "       [ 1.21021615e+00,  7.40774675e-04],\n",
       "       [ 1.34464641e+00,  1.57041320e-02],\n",
       "       [ 1.45033714e+00,  1.51655575e-02],\n",
       "       [ 1.62337117e+00,  9.95498099e-04],\n",
       "       [ 1.69665604e+00,  2.31105352e-02],\n",
       "       [ 1.76166284e+00,  5.43258200e-02],\n",
       "       [ 1.76756910e+00, -4.78319036e-02],\n",
       "       [ 1.87390359e+00, -9.64306426e-02],\n",
       "       [ 1.87612142e+00, -7.75130788e-02],\n",
       "       [ 1.88180201e+00, -1.53400498e-01]])"
      ]
     },
     "execution_count": 107,
     "metadata": {},
     "output_type": "execute_result"
    }
   ],
   "source": [
    "temp = np.hstack((x.reshape(-1, 1), y.reshape(-1, 1)))\n",
    "temp = list(sorted(temp, key=lambda x: x[0]))\n",
    "temp = np.array(temp)\n",
    "temp\n"
   ]
  },
  {
   "cell_type": "code",
   "execution_count": 122,
   "metadata": {},
   "outputs": [
    {
     "data": {
      "image/png": "[encoded data removed]",
      "text/plain": [
       "<Figure size 432x288 with 1 Axes>"
      ]
     },
     "metadata": {
      "needs_background": "light"
     },
     "output_type": "display_data"
    }
   ],
   "source": [
    "l1 = LinearRegression(temp[:,0], temp[:,1], p, len(x) - 1)\n",
    "fig, ax = plt.subplots()\n",
    "ax.scatter(temp[:,0], temp[:,1])\n",
    "\n",
    "x_temp = np.linspace(0, max(temp[:,0]), len(temp[:,0]) * 10)\n",
    "y_temp = [l1.get_func_value(i) for i in x_temp]\n",
    "ax.plot(x_temp, y_temp, label=\"n = 1\")\n",
    "\n",
    "ax.set_ylim(min(temp[:,0]) - 0.03, max(temp[:,1]) + 0.03)\n",
    "ax.legend()\n",
    "plt.show()"
   ]
  },
  {
   "cell_type": "code",
   "execution_count": 123,
   "metadata": {},
   "outputs": [
    {
     "data": {
      "image/png": "[encoded data removed]",
      "text/plain": [
       "<Figure size 432x288 with 1 Axes>"
      ]
     },
     "metadata": {
      "needs_background": "light"
     },
     "output_type": "display_data"
    }
   ],
   "source": [
    "\n",
    "l1 = LinearRegression(x, y, p, 0)\n",
    "fig, ax = plt.subplots()\n",
    "ax.scatter(x, y)\n",
    "\n",
    "x_temp = np.linspace(0, max(x), len(x) * 10)\n",
    "y_temp = [l1.get_func_value(i) for i in x_temp]\n",
    "ax.plot(x_temp, y_temp, label=\"n = 1\")\n",
    "\n",
    "ax.set_ylim(min(y), max(y))\n",
    "ax.legend()\n",
    "plt.show()"
   ]
  },
  {
   "cell_type": "code",
   "execution_count": 128,
   "metadata": {},
   "outputs": [
    {
     "data": {
      "text/plain": [
       "0.48866049624428415"
      ]
     },
     "execution_count": 128,
     "metadata": {},
     "output_type": "execute_result"
    }
   ],
   "source": [
    "a0 = (np.dot(p, y)) / sum(p)\n",
    "a0"
   ]
  },
  {
   "cell_type": "code",
   "execution_count": 132,
   "metadata": {},
   "outputs": [
    {
     "data": {
      "text/plain": [
       "16"
      ]
     },
     "execution_count": 132,
     "metadata": {},
     "output_type": "execute_result"
    }
   ],
   "source": [
    "len(y[y >= a0])"
   ]
  },
  {
   "cell_type": "code",
   "execution_count": 133,
   "metadata": {},
   "outputs": [
    {
     "data": {
      "text/plain": [
       "4"
      ]
     },
     "execution_count": 133,
     "metadata": {},
     "output_type": "execute_result"
    }
   ],
   "source": [
    "len(y[y <= a0])"
   ]
  },
  {
   "cell_type": "code",
   "execution_count": 138,
   "metadata": {},
   "outputs": [],
   "source": [
    "x_c = np.dot(x, p) / sum(p)\n",
    "y_c = np.dot(y, p) / sum(p)"
   ]
  },
  {
   "cell_type": "code",
   "execution_count": 140,
   "metadata": {},
   "outputs": [
    {
     "data": {
      "text/plain": [
       "(1.6843438336145689, 0.48866049624428415)"
      ]
     },
     "execution_count": 140,
     "metadata": {},
     "output_type": "execute_result"
    }
   ],
   "source": [
    "x_c, y_c"
   ]
  },
  {
   "cell_type": "code",
   "execution_count": 157,
   "metadata": {},
   "outputs": [
    {
     "data": {
      "image/png": "[encoded data removed]",
      "text/plain": [
       "<Figure size 432x288 with 1 Axes>"
      ]
     },
     "metadata": {
      "needs_background": "light"
     },
     "output_type": "display_data"
    }
   ],
   "source": [
    "l1 = LinearRegression(x, y, p, 1)\n",
    "fig, ax = plt.subplots()\n",
    "ax.scatter(x, y)\n",
    "\n",
    "x_temp = np.linspace(0, max(x), len(x) * 10)\n",
    "y_temp = [l1.get_func_value(i) for i in x_temp]\n",
    "ax.plot(x_temp, y_temp, label=\"n = 1\")\n",
    "ax.scatter(x_c, y_c, color='red', label=\"c\")\n",
    "\n",
    "ax.set_ylim(min(y) - 1, max(y) + 1)\n",
    "ax.legend()\n",
    "\n",
    "plt.show()"
   ]
  },
  {
   "cell_type": "code",
   "execution_count": null,
   "metadata": {},
   "outputs": [],
   "source": []
  },
  {
   "attachments": {},
   "cell_type": "markdown",
   "metadata": {},
   "source": [
    "### Изменим вес точки"
   ]
  },
  {
   "cell_type": "code",
   "execution_count": 110,
   "metadata": {},
   "outputs": [],
   "source": [
    "p[2] = -100"
   ]
  },
  {
   "cell_type": "code",
   "execution_count": 111,
   "metadata": {},
   "outputs": [],
   "source": [
    "class LinearRegression3D:\n",
    "    def __init__(self, x, y, z, p):\n",
    "        self.x = x\n",
    "        self.y = y\n",
    "        self.z = z\n",
    "        self.p = p\n",
    "        self.n = 3\n",
    "        \n",
    "        self.train()\n",
    "        \n",
    "    def train(self):\n",
    "        mat = [[0] * self.n for i in range(self.n)]\n",
    "        \n",
    "        mat[0][0] = np.dot(self.p, self.x ** 0)\n",
    "        mat[0][1] = np.dot(self.p, self.x)\n",
    "        mat[0][2] = np.dot(self.p, self.y)\n",
    "        \n",
    "        mat[1][0] = np.dot(self.p, self.x)\n",
    "        mat[1][1] = np.dot(self.p, self.x ** 2)\n",
    "        mat[1][2] = np.dot(self.p, self.y * self.x)\n",
    "        \n",
    "        mat[2][0] = np.dot(self.p, self.y)\n",
    "        mat[2][1] = np.dot(self.p, self.x * self.y)\n",
    "        mat[2][2] = np.dot(self.p, self.y ** 2)\n",
    "        \n",
    "        \n",
    "        b = [np.dot(self.p, self.z), np.dot(self.p, self.z * self.x), np.dot(self.p, self.z * self.y)]\n",
    "        \n",
    "        mat = np.array(mat)\n",
    "        \n",
    "        print(mat, b)\n",
    "        self.a = np.array(gaussElim(mat, b))\n",
    "\n",
    "    def get_func_value(self, x, y):\n",
    "        return self.a[0] + self.a[1] * x + self.a[2] * y"
   ]
  },
  {
   "cell_type": "code",
   "execution_count": 112,
   "metadata": {},
   "outputs": [],
   "source": [
    "N = 20\n",
    "x = np.random.uniform(0, 2, size=N).reshape((-1,1))\n",
    "y = np.random.uniform(0, 2, size=N).reshape((-1,1))\n",
    "Z_l = x ** 2 / 25 - y ** 2 / 16 + np.random.normal(scale=0.1, size=x.shape)\n",
    "\n",
    "x = x.reshape(-1)\n",
    "y = y.reshape(-1)\n",
    "z = Z_l.reshape(-1)"
   ]
  },
  {
   "cell_type": "code",
   "execution_count": 113,
   "metadata": {},
   "outputs": [
    {
     "name": "stdout",
     "output_type": "stream",
     "text": [
      "[[ -81.         -136.43185052  -39.5815002 ]\n",
      " [-136.43185052 -219.4415257   -73.85467743]\n",
      " [ -39.5815002   -73.85467743   -9.49755186]] [-7.657063999197802, -11.029951845789725, -5.68252572996696]\n"
     ]
    },
    {
     "data": {
      "text/plain": [
       "<mpl_toolkits.mplot3d.art3d.Poly3DCollection at 0x2483241b550>"
      ]
     },
     "execution_count": 113,
     "metadata": {},
     "output_type": "execute_result"
    },
    {
     "data": {
      "image/png": "[encoded data removed]",
      "text/plain": [
       "<Figure size 432x288 with 1 Axes>"
      ]
     },
     "metadata": {
      "needs_background": "light"
     },
     "output_type": "display_data"
    }
   ],
   "source": [
    "l1 = LinearRegression3D(x, y, z, p)\n",
    "fig = plt.figure()\n",
    "ax = plt.axes(projection ='3d')\n",
    "ax.scatter(x, y, z)\n",
    "\n",
    "x_grid = np.linspace(min(x), max(x), len(x))\n",
    "y_grid = np.linspace(min(y), max(y), len(y))\n",
    "X, Y = np.meshgrid(x_grid, y_grid)\n",
    "z = l1.get_func_value(X, Y)\n",
    "\n",
    "ax.plot_surface(X, Y, z)\n"
   ]
  },
  {
   "cell_type": "code",
   "execution_count": 114,
   "metadata": {},
   "outputs": [
    {
     "data": {
      "text/plain": [
       "array([1, 2, 3, 4])"
      ]
     },
     "execution_count": 114,
     "metadata": {},
     "output_type": "execute_result"
    }
   ],
   "source": [
    "test = np.array([1, 2, 3, 4])\n",
    "test"
   ]
  },
  {
   "cell_type": "code",
   "execution_count": 115,
   "metadata": {},
   "outputs": [
    {
     "data": {
      "text/plain": [
       "array([0, 1, 2, 3])"
      ]
     },
     "execution_count": 115,
     "metadata": {},
     "output_type": "execute_result"
    }
   ],
   "source": [
    "test - 1"
   ]
  }
 ],
 "metadata": {
  "kernelspec": {
   "display_name": "Python 3",
   "language": "python",
   "name": "python3"
  },
  "language_info": {
   "codemirror_mode": {
    "name": "ipython",
    "version": 3
   },
   "file_extension": ".py",
   "mimetype": "text/x-python",
   "name": "python",
   "nbconvert_exporter": "python",
   "pygments_lexer": "ipython3",
   "version": "3.10.1"
  },
  "orig_nbformat": 4
 },
 "nbformat": 4,
 "nbformat_minor": 2
}
