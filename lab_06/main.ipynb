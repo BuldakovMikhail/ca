{
 "cells": [
  {
   "cell_type": "code",
   "execution_count": 47,
   "metadata": {},
   "outputs": [],
   "source": [
    "import pandas as pd\n",
    "import numpy as np\n",
    "import matplotlib.pyplot as plt\n",
    "\n",
    "from mpl_toolkits.mplot3d import Axes3D \n",
    "\n",
    "import sympy as sym"
   ]
  },
  {
   "cell_type": "code",
   "execution_count": 48,
   "metadata": {},
   "outputs": [
    {
     "data": {
      "text/html": [
       "<div>\n",
       "<style scoped>\n",
       "    .dataframe tbody tr th:only-of-type {\n",
       "        vertical-align: middle;\n",
       "    }\n",
       "\n",
       "    .dataframe tbody tr th {\n",
       "        vertical-align: top;\n",
       "    }\n",
       "\n",
       "    .dataframe thead th {\n",
       "        text-align: right;\n",
       "    }\n",
       "</style>\n",
       "<table border=\"1\" class=\"dataframe\">\n",
       "  <thead>\n",
       "    <tr style=\"text-align: right;\">\n",
       "      <th></th>\n",
       "      <th>0.0</th>\n",
       "      <th>0.1</th>\n",
       "      <th>0.2</th>\n",
       "      <th>0.3</th>\n",
       "      <th>0.4</th>\n",
       "      <th>0.5</th>\n",
       "      <th>0.6</th>\n",
       "      <th>0.7</th>\n",
       "      <th>0.8</th>\n",
       "      <th>0.9</th>\n",
       "      <th>1.0</th>\n",
       "      <th>1.1</th>\n",
       "      <th>1.2</th>\n",
       "    </tr>\n",
       "  </thead>\n",
       "  <tbody>\n",
       "    <tr>\n",
       "      <th>0.0</th>\n",
       "      <td>5.0000</td>\n",
       "      <td>4.0937</td>\n",
       "      <td>3.3516</td>\n",
       "      <td>2.7441</td>\n",
       "      <td>2.2466</td>\n",
       "      <td>1.8394</td>\n",
       "      <td>1.5060</td>\n",
       "      <td>1.2330</td>\n",
       "      <td>1.0095</td>\n",
       "      <td>0.8265</td>\n",
       "      <td>0.6767</td>\n",
       "      <td>0.5540</td>\n",
       "      <td>0.4536</td>\n",
       "    </tr>\n",
       "    <tr>\n",
       "      <th>0.1</th>\n",
       "      <td>3.7041</td>\n",
       "      <td>3.0327</td>\n",
       "      <td>2.4829</td>\n",
       "      <td>2.0328</td>\n",
       "      <td>1.6644</td>\n",
       "      <td>1.3627</td>\n",
       "      <td>1.1157</td>\n",
       "      <td>0.9134</td>\n",
       "      <td>0.7478</td>\n",
       "      <td>0.6123</td>\n",
       "      <td>0.5013</td>\n",
       "      <td>0.4104</td>\n",
       "      <td>0.3360</td>\n",
       "    </tr>\n",
       "    <tr>\n",
       "      <th>0.2</th>\n",
       "      <td>2.7441</td>\n",
       "      <td>2.2466</td>\n",
       "      <td>1.8394</td>\n",
       "      <td>1.5060</td>\n",
       "      <td>1.2330</td>\n",
       "      <td>1.0095</td>\n",
       "      <td>0.8265</td>\n",
       "      <td>0.6767</td>\n",
       "      <td>0.5540</td>\n",
       "      <td>0.4536</td>\n",
       "      <td>0.3714</td>\n",
       "      <td>0.3041</td>\n",
       "      <td>0.2489</td>\n",
       "    </tr>\n",
       "    <tr>\n",
       "      <th>0.3</th>\n",
       "      <td>2.0328</td>\n",
       "      <td>1.6644</td>\n",
       "      <td>1.3627</td>\n",
       "      <td>1.1157</td>\n",
       "      <td>0.9134</td>\n",
       "      <td>0.7478</td>\n",
       "      <td>0.6123</td>\n",
       "      <td>0.5013</td>\n",
       "      <td>0.4104</td>\n",
       "      <td>0.3360</td>\n",
       "      <td>0.2751</td>\n",
       "      <td>0.2252</td>\n",
       "      <td>0.1844</td>\n",
       "    </tr>\n",
       "    <tr>\n",
       "      <th>0.4</th>\n",
       "      <td>1.5060</td>\n",
       "      <td>1.2330</td>\n",
       "      <td>1.0095</td>\n",
       "      <td>0.8265</td>\n",
       "      <td>0.6767</td>\n",
       "      <td>0.5540</td>\n",
       "      <td>0.4536</td>\n",
       "      <td>0.3714</td>\n",
       "      <td>0.3041</td>\n",
       "      <td>0.2489</td>\n",
       "      <td>0.2038</td>\n",
       "      <td>0.1669</td>\n",
       "      <td>0.1366</td>\n",
       "    </tr>\n",
       "    <tr>\n",
       "      <th>0.5</th>\n",
       "      <td>1.1157</td>\n",
       "      <td>0.9134</td>\n",
       "      <td>0.7478</td>\n",
       "      <td>0.6123</td>\n",
       "      <td>0.5013</td>\n",
       "      <td>0.4104</td>\n",
       "      <td>0.3360</td>\n",
       "      <td>0.2751</td>\n",
       "      <td>0.2252</td>\n",
       "      <td>0.1844</td>\n",
       "      <td>0.1510</td>\n",
       "      <td>0.1236</td>\n",
       "      <td>0.1012</td>\n",
       "    </tr>\n",
       "    <tr>\n",
       "      <th>0.6</th>\n",
       "      <td>0.8265</td>\n",
       "      <td>0.6767</td>\n",
       "      <td>0.5540</td>\n",
       "      <td>0.4536</td>\n",
       "      <td>0.3714</td>\n",
       "      <td>0.3041</td>\n",
       "      <td>0.2489</td>\n",
       "      <td>0.2038</td>\n",
       "      <td>0.1669</td>\n",
       "      <td>0.1366</td>\n",
       "      <td>0.1119</td>\n",
       "      <td>0.0916</td>\n",
       "      <td>0.0750</td>\n",
       "    </tr>\n",
       "    <tr>\n",
       "      <th>0.7</th>\n",
       "      <td>0.6123</td>\n",
       "      <td>0.5013</td>\n",
       "      <td>0.4104</td>\n",
       "      <td>0.3360</td>\n",
       "      <td>0.2751</td>\n",
       "      <td>0.2252</td>\n",
       "      <td>0.1844</td>\n",
       "      <td>0.1510</td>\n",
       "      <td>0.1236</td>\n",
       "      <td>0.1012</td>\n",
       "      <td>0.0829</td>\n",
       "      <td>0.0678</td>\n",
       "      <td>0.0555</td>\n",
       "    </tr>\n",
       "    <tr>\n",
       "      <th>0.8</th>\n",
       "      <td>0.4536</td>\n",
       "      <td>0.3714</td>\n",
       "      <td>0.3041</td>\n",
       "      <td>0.2489</td>\n",
       "      <td>0.2038</td>\n",
       "      <td>0.1669</td>\n",
       "      <td>0.1366</td>\n",
       "      <td>0.1119</td>\n",
       "      <td>0.0916</td>\n",
       "      <td>0.0750</td>\n",
       "      <td>0.0614</td>\n",
       "      <td>0.0503</td>\n",
       "      <td>0.0411</td>\n",
       "    </tr>\n",
       "    <tr>\n",
       "      <th>0.9</th>\n",
       "      <td>0.3360</td>\n",
       "      <td>0.2751</td>\n",
       "      <td>0.2252</td>\n",
       "      <td>0.1844</td>\n",
       "      <td>0.1510</td>\n",
       "      <td>0.1236</td>\n",
       "      <td>0.1012</td>\n",
       "      <td>0.0829</td>\n",
       "      <td>0.0678</td>\n",
       "      <td>0.0555</td>\n",
       "      <td>0.0455</td>\n",
       "      <td>0.0372</td>\n",
       "      <td>0.0305</td>\n",
       "    </tr>\n",
       "    <tr>\n",
       "      <th>1.0</th>\n",
       "      <td>0.2489</td>\n",
       "      <td>0.2038</td>\n",
       "      <td>0.1669</td>\n",
       "      <td>0.1366</td>\n",
       "      <td>0.1119</td>\n",
       "      <td>0.0916</td>\n",
       "      <td>0.0750</td>\n",
       "      <td>0.0614</td>\n",
       "      <td>0.0503</td>\n",
       "      <td>0.0411</td>\n",
       "      <td>0.0337</td>\n",
       "      <td>0.0276</td>\n",
       "      <td>0.0226</td>\n",
       "    </tr>\n",
       "    <tr>\n",
       "      <th>1.1</th>\n",
       "      <td>0.1844</td>\n",
       "      <td>0.1510</td>\n",
       "      <td>0.1236</td>\n",
       "      <td>0.1012</td>\n",
       "      <td>0.0829</td>\n",
       "      <td>0.0678</td>\n",
       "      <td>0.0555</td>\n",
       "      <td>0.0455</td>\n",
       "      <td>0.0372</td>\n",
       "      <td>0.0305</td>\n",
       "      <td>0.0250</td>\n",
       "      <td>0.0204</td>\n",
       "      <td>0.0167</td>\n",
       "    </tr>\n",
       "    <tr>\n",
       "      <th>1.2</th>\n",
       "      <td>0.1366</td>\n",
       "      <td>0.1119</td>\n",
       "      <td>0.0916</td>\n",
       "      <td>0.0750</td>\n",
       "      <td>0.0614</td>\n",
       "      <td>0.0503</td>\n",
       "      <td>0.0411</td>\n",
       "      <td>0.0337</td>\n",
       "      <td>0.0276</td>\n",
       "      <td>0.0226</td>\n",
       "      <td>0.0185</td>\n",
       "      <td>0.0151</td>\n",
       "      <td>0.0124</td>\n",
       "    </tr>\n",
       "  </tbody>\n",
       "</table>\n",
       "</div>"
      ],
      "text/plain": [
       "        0.0     0.1     0.2     0.3     0.4     0.5     0.6     0.7     0.8  \\\n",
       "0.0  5.0000  4.0937  3.3516  2.7441  2.2466  1.8394  1.5060  1.2330  1.0095   \n",
       "0.1  3.7041  3.0327  2.4829  2.0328  1.6644  1.3627  1.1157  0.9134  0.7478   \n",
       "0.2  2.7441  2.2466  1.8394  1.5060  1.2330  1.0095  0.8265  0.6767  0.5540   \n",
       "0.3  2.0328  1.6644  1.3627  1.1157  0.9134  0.7478  0.6123  0.5013  0.4104   \n",
       "0.4  1.5060  1.2330  1.0095  0.8265  0.6767  0.5540  0.4536  0.3714  0.3041   \n",
       "0.5  1.1157  0.9134  0.7478  0.6123  0.5013  0.4104  0.3360  0.2751  0.2252   \n",
       "0.6  0.8265  0.6767  0.5540  0.4536  0.3714  0.3041  0.2489  0.2038  0.1669   \n",
       "0.7  0.6123  0.5013  0.4104  0.3360  0.2751  0.2252  0.1844  0.1510  0.1236   \n",
       "0.8  0.4536  0.3714  0.3041  0.2489  0.2038  0.1669  0.1366  0.1119  0.0916   \n",
       "0.9  0.3360  0.2751  0.2252  0.1844  0.1510  0.1236  0.1012  0.0829  0.0678   \n",
       "1.0  0.2489  0.2038  0.1669  0.1366  0.1119  0.0916  0.0750  0.0614  0.0503   \n",
       "1.1  0.1844  0.1510  0.1236  0.1012  0.0829  0.0678  0.0555  0.0455  0.0372   \n",
       "1.2  0.1366  0.1119  0.0916  0.0750  0.0614  0.0503  0.0411  0.0337  0.0276   \n",
       "\n",
       "        0.9     1.0     1.1     1.2  \n",
       "0.0  0.8265  0.6767  0.5540  0.4536  \n",
       "0.1  0.6123  0.5013  0.4104  0.3360  \n",
       "0.2  0.4536  0.3714  0.3041  0.2489  \n",
       "0.3  0.3360  0.2751  0.2252  0.1844  \n",
       "0.4  0.2489  0.2038  0.1669  0.1366  \n",
       "0.5  0.1844  0.1510  0.1236  0.1012  \n",
       "0.6  0.1366  0.1119  0.0916  0.0750  \n",
       "0.7  0.1012  0.0829  0.0678  0.0555  \n",
       "0.8  0.0750  0.0614  0.0503  0.0411  \n",
       "0.9  0.0555  0.0455  0.0372  0.0305  \n",
       "1.0  0.0411  0.0337  0.0276  0.0226  \n",
       "1.1  0.0305  0.0250  0.0204  0.0167  \n",
       "1.2  0.0226  0.0185  0.0151  0.0124  "
      ]
     },
     "execution_count": 48,
     "metadata": {},
     "output_type": "execute_result"
    }
   ],
   "source": [
    "data = pd.read_csv('data.csv', sep='\\t', index_col=0, header=0)\n",
    "data.columns = data.columns.values.astype(np.float64)\n",
    "data"
   ]
  },
  {
   "cell_type": "code",
   "execution_count": 49,
   "metadata": {},
   "outputs": [
    {
     "data": {
      "text/plain": [
       "<mpl_toolkits.mplot3d.art3d.Poly3DCollection at 0x1fcbb19f190>"
      ]
     },
     "execution_count": 49,
     "metadata": {},
     "output_type": "execute_result"
    },
    {
     "data": {
      "image/png": "[encoded data removed]",
      "text/plain": [
       "<Figure size 432x288 with 1 Axes>"
      ]
     },
     "metadata": {
      "needs_background": "light"
     },
     "output_type": "display_data"
    }
   ],
   "source": [
    "x = Y = list(map(float, data.columns.values))\n",
    "fig = plt.figure()\n",
    "ax = fig.add_subplot(111, projection='3d')\n",
    "X, Y = np.meshgrid(x, Y)\n",
    "\n",
    "ax.plot_surface(X, Y, data)\n"
   ]
  },
  {
   "attachments": {},
   "cell_type": "markdown",
   "metadata": {},
   "source": [
    "## Задание 1\n",
    "\n",
    "Построить алгоритм и программу для вычисления двукратного интеграла:\n",
    "\n",
    "$$\n",
    "  I=\\iint_G f(x,y)dxdy\n",
    "$$\n",
    "\n",
    "Ограниченной прямыми:\n",
    "$$ x + y = 1 $$\n",
    "$$ x = 0 $$ \n",
    "$$ y = 0 $$ "
   ]
  },
  {
   "cell_type": "code",
   "execution_count": 50,
   "metadata": {},
   "outputs": [
    {
     "data": {
      "image/png": "[encoded data removed]",
      "text/plain": [
       "<Figure size 432x288 with 1 Axes>"
      ]
     },
     "metadata": {
      "needs_background": "light"
     },
     "output_type": "display_data"
    }
   ],
   "source": [
    "x = np.linspace(-5, 5, 10)\n",
    "plt.plot(x, 1 - x)\n",
    "plt.plot(x, np.zeros_like(x))\n",
    "plt.plot(np.zeros_like(x), x)\n",
    "plt.grid()"
   ]
  },
  {
   "cell_type": "code",
   "execution_count": 51,
   "metadata": {},
   "outputs": [],
   "source": [
    "a = 0\n",
    "b = 1\n",
    "\n",
    "def psi(x):\n",
    "    return 1 - x\n",
    "\n",
    "def fi(x):\n",
    "    return 0"
   ]
  },
  {
   "attachments": {},
   "cell_type": "markdown",
   "metadata": {},
   "source": [
    "Полином Лежандра получаем по формуле Родрига:\n",
    "$$\n",
    "\\displaystyle P_{n}(z)={\\frac {1}{2^{n}n!}}{\\frac {d^{n}}{dz^{n}}}(z^{2}-1)^{n}.\n",
    "$$"
   ]
  },
  {
   "cell_type": "code",
   "execution_count": 52,
   "metadata": {},
   "outputs": [],
   "source": [
    "def get_legendre_poly(n):\n",
    "    x = sym.symbols(\"x\")\n",
    "    func = f\"(x**2-1)**{n} / (2 ** {n})\"\n",
    "    func = sym.sympify(func)\n",
    "    func = func / sym.factorial(n)\n",
    "    return sym.Derivative(func, (x, n)).doit()\n"
   ]
  },
  {
   "cell_type": "code",
   "execution_count": 53,
   "metadata": {},
   "outputs": [],
   "source": [
    "def get_gauss_cofs(roots):\n",
    "    matrix = np.array([roots ** i for i in range(len(roots))], dtype=\"float\")\n",
    "    b = np.array([0 if i % 2 != 0 else 2 / (i + 1) for i in range(len(roots))], dtype=\"float\")\n",
    "    \n",
    "    return np.linalg.solve(matrix, b)"
   ]
  },
  {
   "cell_type": "code",
   "execution_count": 54,
   "metadata": {},
   "outputs": [],
   "source": [
    "def count_integral_gauss(a, b, func, N):\n",
    "    legendre_poly = get_legendre_poly(N)\n",
    "    roots = np.array(sym.solve(legendre_poly.doit(), sym.Symbol('x')), dtype=np.float64)\n",
    "    coffs = get_gauss_cofs(roots)\n",
    "    \n",
    "    x = (b + a) / 2 + (b - a) / 2 * roots\n",
    "    fx = func(x)\n",
    "    \n",
    "    return (b - a) / 2 * fx @ coffs "
   ]
  },
  {
   "cell_type": "code",
   "execution_count": 55,
   "metadata": {},
   "outputs": [],
   "source": [
    "def count_integral_simpson(a, b, func, n):\n",
    "    N = 2 * n\n",
    "    x = (b - a)\n",
    "    \n",
    "    steps = [x / N * i for i in range(N + 1)]\n",
    "\n",
    "    h = x / N\n",
    "\n",
    "    s1 = 2 * np.sum([func(steps[2 * j]) for j in range(1, N // 2)])\n",
    "    s2 = 4 * np.sum([func(steps[2 * j - 1]) for j in range(1, N // 2 + 1)])\n",
    "\n",
    "    return h / 3 * (func(steps[0]) + s1 + s2 + func(steps[N]))"
   ]
  },
  {
   "attachments": {},
   "cell_type": "markdown",
   "metadata": {},
   "source": [
    "Посмотрим, как поведет себя введение выравнивающих переменных."
   ]
  },
  {
   "cell_type": "code",
   "execution_count": 56,
   "metadata": {},
   "outputs": [
    {
     "data": {
      "text/plain": [
       "<mpl_toolkits.mplot3d.art3d.Poly3DCollection at 0x1fcbb2c5ed0>"
      ]
     },
     "execution_count": 56,
     "metadata": {},
     "output_type": "execute_result"
    },
    {
     "data": {
      "image/png": "[encoded data removed]",
      "text/plain": [
       "<Figure size 432x288 with 1 Axes>"
      ]
     },
     "metadata": {
      "needs_background": "light"
     },
     "output_type": "display_data"
    }
   ],
   "source": [
    "x = y = list(map(float, data.columns.values))\n",
    "fig = plt.figure()\n",
    "ax = fig.add_subplot(111, projection='3d')\n",
    "X, Y = np.meshgrid(x, y)\n",
    "\n",
    "ax.plot_surface(X, Y, np.log(data))"
   ]
  },
  {
   "attachments": {},
   "cell_type": "markdown",
   "metadata": {},
   "source": [
    "Отлично, замена $ \\eta = \\ln z $, привела заданную функцию к плоскости, поэтому апроксимацию будем проводить полиномом 1й степени."
   ]
  },
  {
   "cell_type": "code",
   "execution_count": 57,
   "metadata": {},
   "outputs": [],
   "source": [
    "class Plane:\n",
    "    def __init__(self, data):\n",
    "        Y = np.array(data.index)\n",
    "        X = np.array(data.columns.values)\n",
    "        matrix = np.array(\n",
    "            [[1, X[0], Y[0]],\n",
    "            [1, X[-1], Y[-1]],\n",
    "            [1, X[0], Y[-1]]]\n",
    "            )\n",
    "        \n",
    "        b = np.array([data[X[0]][Y[0]], data[X[-1]][Y[-1]], data[X[0]][Y[-1]]])\n",
    "        \n",
    "        self.coffs = np.linalg.solve(matrix, b)\n",
    "\n",
    "    \n",
    "    def get_value(self, x, y):\n",
    "        return self.coffs[0] + self.coffs[1] * x + self.coffs[2] * y\n"
   ]
  },
  {
   "cell_type": "code",
   "execution_count": 58,
   "metadata": {},
   "outputs": [
    {
     "data": {
      "text/plain": [
       "0.5780483678560145"
      ]
     },
     "execution_count": 58,
     "metadata": {},
     "output_type": "execute_result"
    }
   ],
   "source": [
    "aprox = Plane(np.log(data))\n",
    "\n",
    "def func_1(x, y):\n",
    "   # print(aprox.get_value(x, y))\n",
    "    return np.exp(aprox.get_value(x, y))\n",
    "\n",
    "\n",
    "def solution(a, b, fi, psi, n1 = 10, n2 = 10):\n",
    "    def wrap(y):\n",
    "        def func_split(x):\n",
    "            return func_1(x, y)\n",
    "        return count_integral_gauss(fi(y), psi(y), func_split, n1)\n",
    "    \n",
    "    return count_integral_simpson(a, b, wrap, n2)\n",
    "   \n",
    "    \n",
    "solution(a, b, fi, psi)"
   ]
  },
  {
   "cell_type": "code",
   "execution_count": 61,
   "metadata": {},
   "outputs": [
    {
     "data": {
      "text/plain": [
       "0.5780462920220513"
      ]
     },
     "execution_count": 61,
     "metadata": {},
     "output_type": "execute_result"
    }
   ],
   "source": [
    "solution(a, b, fi, psi, 20, 20)"
   ]
  },
  {
   "cell_type": "code",
   "execution_count": 66,
   "metadata": {},
   "outputs": [
    {
     "data": {
      "text/plain": [
       "[<matplotlib.lines.Line2D at 0x1fcc54cbc70>]"
      ]
     },
     "execution_count": 66,
     "metadata": {},
     "output_type": "execute_result"
    },
    {
     "data": {
      "image/png": "[encoded data removed]",
      "text/plain": [
       "<Figure size 432x288 with 1 Axes>"
      ]
     },
     "metadata": {
      "needs_background": "light"
     },
     "output_type": "display_data"
    }
   ],
   "source": [
    "temp_x = np.linspace(5, 50, 10)\n",
    "temp_y = [solution(a, b, fi, psi, int(i)) for i in temp_x]\n",
    "plt.plot(temp_x, temp_y)"
   ]
  },
  {
   "cell_type": "code",
   "execution_count": 68,
   "metadata": {},
   "outputs": [
    {
     "data": {
      "text/plain": [
       "[<matplotlib.lines.Line2D at 0x1fcc5ab8e80>]"
      ]
     },
     "execution_count": 68,
     "metadata": {},
     "output_type": "execute_result"
    },
    {
     "data": {
      "image/png": "[encoded data removed]",
      "text/plain": [
       "<Figure size 432x288 with 1 Axes>"
      ]
     },
     "metadata": {
      "needs_background": "light"
     },
     "output_type": "display_data"
    }
   ],
   "source": [
    "temp_x = np.linspace(5, 50, 10)\n",
    "temp_y = [solution(a, b, fi, psi, int(i), int(i)) for i in temp_x]\n",
    "plt.plot(temp_x, temp_y)"
   ]
  },
  {
   "cell_type": "code",
   "execution_count": 81,
   "metadata": {},
   "outputs": [
    {
     "data": {
      "text/plain": [
       "0.5780461568880787"
      ]
     },
     "execution_count": 81,
     "metadata": {},
     "output_type": "execute_result"
    }
   ],
   "source": [
    "temp_y[-1]"
   ]
  },
  {
   "attachments": {},
   "cell_type": "markdown",
   "metadata": {},
   "source": [
    "## Задание 2"
   ]
  },
  {
   "attachments": {},
   "cell_type": "markdown",
   "metadata": {},
   "source": [
    "Задана табличная (сеточная) функция. Имеется информация, что закономерность, \n",
    "представленная этой таблицей, может быть описана формулой\n",
    "\n",
    "$$ \n",
    "y = \\frac{a_0 * x}{a_1 + a_2 * x}\n",
    "$$"
   ]
  },
  {
   "cell_type": "code",
   "execution_count": 104,
   "metadata": {},
   "outputs": [],
   "source": [
    "x = np.array([i for i in range(1, 7)])\n",
    "data_2 = np.array([0.571, 0.889, 1.091, 1.231, 1.333, 1.412])"
   ]
  },
  {
   "cell_type": "code",
   "execution_count": 111,
   "metadata": {},
   "outputs": [],
   "source": [
    "def der(a, b, h):\n",
    "    return (a - b) / h"
   ]
  },
  {
   "cell_type": "code",
   "execution_count": 112,
   "metadata": {},
   "outputs": [
    {
     "data": {
      "text/plain": [
       "[0.31800000000000006,\n",
       " 0.20199999999999996,\n",
       " 0.14000000000000012,\n",
       " 0.10199999999999987,\n",
       " 0.07899999999999996]"
      ]
     },
     "execution_count": 112,
     "metadata": {},
     "output_type": "execute_result"
    }
   ],
   "source": [
    "h = (x[1] - x[0])\n",
    "one_side_ders = [der(data_2[i], data_2[i - 1], h) for i in range(1, len(data_2))]\n",
    "one_side_ders"
   ]
  },
  {
   "cell_type": "code",
   "execution_count": 114,
   "metadata": {},
   "outputs": [
    {
     "data": {
      "text/plain": [
       "[0.26, 0.17100000000000004, 0.121, 0.09049999999999991]"
      ]
     },
     "execution_count": 114,
     "metadata": {},
     "output_type": "execute_result"
    }
   ],
   "source": [
    "center_ders = [der(data_2[i+1], data_2[i-1], 2 * h) for i in range(1, len(data_2) - 1)]\n",
    "center_ders"
   ]
  },
  {
   "cell_type": "code",
   "execution_count": 115,
   "metadata": {},
   "outputs": [],
   "source": [
    "def runge(y, h, i):\n",
    "    \n",
    "    f1 = (y[i] - y[i - 1]) / h\n",
    "    f2 = (y[i] - y[i - 2]) / (2 * h)\n",
    "    \n",
    "    return f1 + (f1 - f2) / (2 ** 2 - 1)    "
   ]
  },
  {
   "cell_type": "code",
   "execution_count": 116,
   "metadata": {},
   "outputs": [
    {
     "data": {
      "text/plain": [
       "[0.18266666666666662,\n",
       " 0.12966666666666682,\n",
       " 0.0956666666666665,\n",
       " 0.07516666666666665]"
      ]
     },
     "execution_count": 116,
     "metadata": {},
     "output_type": "execute_result"
    }
   ],
   "source": [
    "runge_ders = [runge(data_2, h, i) for i in range(2, len(data_2))]\n",
    "runge_ders"
   ]
  },
  {
   "attachments": {},
   "cell_type": "markdown",
   "metadata": {},
   "source": [
    "Попробуем ввести выравнивающую переменную:\n",
    "\n",
    "$$\n",
    "\\frac{1}{y} = \\frac{a_1}{a_0} * \\frac{1}{x} + \\frac{a_2}{a_0}\n",
    "$$\n",
    "\n",
    "Пусть $ \\xi(x)=\\frac{1}{x} $, $ \\eta(y)=\\frac{1}{y} $, $ c=\\frac{a_1}{a_0} $ и $ d = \\frac{a_2}{a_0} $,\n",
    "\n",
    "Тогда:\n",
    "\n",
    "$$\n",
    "    \\eta = c*\\xi + d\n",
    "$$\n",
    "\n",
    "И следовательно:\n",
    "\n",
    "$ \\xi_x' = -\\frac{1}{x^2} $ и $ \\eta_y' = -\\frac{1}{y^2} $"
   ]
  },
  {
   "cell_type": "code",
   "execution_count": 121,
   "metadata": {},
   "outputs": [],
   "source": [
    "def leveling_vars(y, x):\n",
    "    eta = 1 / y\n",
    "    xi = 1 / x\n",
    "    eta_der_by_xi = [(eta[i+1] - eta[i]) / (xi[i + 1] - xi[i]) for i in range(len(xi) - 1)]\n",
    "    y_der = [eta_der_by_xi[i] * y[i] ** 2 / x[i] ** 2 for i in range(len(eta_der_by_xi))]\n",
    "    \n",
    "    return y_der"
   ]
  },
  {
   "cell_type": "code",
   "execution_count": 122,
   "metadata": {},
   "outputs": [
    {
     "data": {
      "text/plain": [
       "[0.4084994375703037,\n",
       " 0.2468991750687442,\n",
       " 0.1654373138369891,\n",
       " 0.11774381095273803,\n",
       " 0.0894960339943342]"
      ]
     },
     "execution_count": 122,
     "metadata": {},
     "output_type": "execute_result"
    }
   ],
   "source": [
    "leveling = leveling_vars(data_2, x)\n",
    "leveling"
   ]
  },
  {
   "attachments": {},
   "cell_type": "markdown",
   "metadata": {},
   "source": [
    "#### Вторая разностная производная"
   ]
  },
  {
   "cell_type": "code",
   "execution_count": 123,
   "metadata": {},
   "outputs": [],
   "source": [
    "def second_der(yn1, yn2, yn3, h):\n",
    "    return (yn1 - 2 * yn2 + yn3) / h ** 2"
   ]
  },
  {
   "cell_type": "code",
   "execution_count": 124,
   "metadata": {},
   "outputs": [
    {
     "data": {
      "text/plain": [
       "[-0.1160000000000001,\n",
       " -0.06199999999999983,\n",
       " -0.038000000000000256,\n",
       " -0.02299999999999991]"
      ]
     },
     "execution_count": 124,
     "metadata": {},
     "output_type": "execute_result"
    }
   ],
   "source": [
    "second_ders = [second_der(data_2[i - 1], data_2[i], data_2[i + 1], h) for i in range(1, len(data_2) - 1)]\n",
    "second_ders"
   ]
  },
  {
   "attachments": {},
   "cell_type": "markdown",
   "metadata": {},
   "source": [
    "#### Результат"
   ]
  },
  {
   "cell_type": "code",
   "execution_count": 132,
   "metadata": {},
   "outputs": [
    {
     "data": {
      "text/html": [
       "<div>\n",
       "<style scoped>\n",
       "    .dataframe tbody tr th:only-of-type {\n",
       "        vertical-align: middle;\n",
       "    }\n",
       "\n",
       "    .dataframe tbody tr th {\n",
       "        vertical-align: top;\n",
       "    }\n",
       "\n",
       "    .dataframe thead th {\n",
       "        text-align: right;\n",
       "    }\n",
       "</style>\n",
       "<table border=\"1\" class=\"dataframe\">\n",
       "  <thead>\n",
       "    <tr style=\"text-align: right;\">\n",
       "      <th></th>\n",
       "      <th>y</th>\n",
       "      <th>Односторонняя производная</th>\n",
       "      <th>Центральная производная</th>\n",
       "      <th>2я формула Рунге</th>\n",
       "      <th>Выравнивающие переменные</th>\n",
       "      <th>Вторая производная</th>\n",
       "    </tr>\n",
       "  </thead>\n",
       "  <tbody>\n",
       "    <tr>\n",
       "      <th>0</th>\n",
       "      <td>0.571</td>\n",
       "      <td>*</td>\n",
       "      <td>*</td>\n",
       "      <td>*</td>\n",
       "      <td>0.408</td>\n",
       "      <td>*</td>\n",
       "    </tr>\n",
       "    <tr>\n",
       "      <th>1</th>\n",
       "      <td>0.889</td>\n",
       "      <td>0.318</td>\n",
       "      <td>0.26</td>\n",
       "      <td>*</td>\n",
       "      <td>0.247</td>\n",
       "      <td>-0.116</td>\n",
       "    </tr>\n",
       "    <tr>\n",
       "      <th>2</th>\n",
       "      <td>1.091</td>\n",
       "      <td>0.202</td>\n",
       "      <td>0.171</td>\n",
       "      <td>0.183</td>\n",
       "      <td>0.165</td>\n",
       "      <td>-0.062</td>\n",
       "    </tr>\n",
       "    <tr>\n",
       "      <th>3</th>\n",
       "      <td>1.231</td>\n",
       "      <td>0.14</td>\n",
       "      <td>0.121</td>\n",
       "      <td>0.13</td>\n",
       "      <td>0.118</td>\n",
       "      <td>-0.038</td>\n",
       "    </tr>\n",
       "    <tr>\n",
       "      <th>4</th>\n",
       "      <td>1.333</td>\n",
       "      <td>0.102</td>\n",
       "      <td>0.09</td>\n",
       "      <td>0.096</td>\n",
       "      <td>0.089</td>\n",
       "      <td>-0.023</td>\n",
       "    </tr>\n",
       "    <tr>\n",
       "      <th>5</th>\n",
       "      <td>1.412</td>\n",
       "      <td>0.079</td>\n",
       "      <td>*</td>\n",
       "      <td>0.075</td>\n",
       "      <td>*</td>\n",
       "      <td>*</td>\n",
       "    </tr>\n",
       "  </tbody>\n",
       "</table>\n",
       "</div>"
      ],
      "text/plain": [
       "       y Односторонняя производная Центральная производная 2я формула Рунге  \\\n",
       "0  0.571                         *                       *                *   \n",
       "1  0.889                     0.318                    0.26                *   \n",
       "2  1.091                     0.202                   0.171            0.183   \n",
       "3  1.231                      0.14                   0.121             0.13   \n",
       "4  1.333                     0.102                    0.09            0.096   \n",
       "5  1.412                     0.079                       *            0.075   \n",
       "\n",
       "  Выравнивающие переменные Вторая производная  \n",
       "0                    0.408                  *  \n",
       "1                    0.247             -0.116  \n",
       "2                    0.165             -0.062  \n",
       "3                    0.118             -0.038  \n",
       "4                    0.089             -0.023  \n",
       "5                        *                  *  "
      ]
     },
     "execution_count": 132,
     "metadata": {},
     "output_type": "execute_result"
    }
   ],
   "source": [
    "df = pd.DataFrame()\n",
    "df['y'] = data_2\n",
    "df['Односторонняя производная'] = ['*'] + list(map(lambda x : round(x, 3), one_side_ders))\n",
    "df['Центральная производная'] =  ['*'] + list(map(lambda x : round(x, 3), center_ders))  + ['*']\n",
    "df['2я формула Рунге'] = ['*'] + ['*'] +list(map(lambda x : round(x, 3), runge_ders))\n",
    "df['Выравнивающие переменные'] = list(map(lambda x : round(x, 3), leveling)) + ['*']\n",
    "df['Вторая производная'] = ['*'] +list(map(lambda x : round(x, 3), second_ders)) + ['*']\n",
    "\n",
    "df"
   ]
  }
 ],
 "metadata": {
  "kernelspec": {
   "display_name": "Python 3",
   "language": "python",
   "name": "python3"
  },
  "language_info": {
   "codemirror_mode": {
    "name": "ipython",
    "version": 3
   },
   "file_extension": ".py",
   "mimetype": "text/x-python",
   "name": "python",
   "nbconvert_exporter": "python",
   "pygments_lexer": "ipython3",
   "version": "3.10.1"
  },
  "orig_nbformat": 4
 },
 "nbformat": 4,
 "nbformat_minor": 2
}
